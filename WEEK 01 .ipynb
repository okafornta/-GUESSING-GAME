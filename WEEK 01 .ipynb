{
 "cells": [
  {
   "cell_type": "code",
   "execution_count": 1,
   "id": "a94393d4",
   "metadata": {},
   "outputs": [
    {
     "name": "stdout",
     "output_type": "stream",
     "text": [
      "Hello, World!\n"
     ]
    }
   ],
   "source": [
    "# this is python\n",
    "print(\"Hello, World!\")"
   ]
  },
  {
   "cell_type": "markdown",
   "id": "f26d41a5",
   "metadata": {},
   "source": [
    "### FRIDAY: CREATING MY FIRST PROGRAM"
   ]
  },
  {
   "cell_type": "code",
   "execution_count": null,
   "id": "dc4d2ca0",
   "metadata": {},
   "outputs": [
    {
     "name": "stdout",
     "output_type": "stream",
     "text": [
      "The number is lower than what you guessed.\n"
     ]
    }
   ],
   "source": [
    "# GUESSING GAME\n",
    "from random import randint\n",
    "from IPython.display import clear_output\n",
    "guessed = False\n",
    "number = randint(0, 100)\n",
    "guesses = 0\n",
    "while not guessed:\n",
    "    ans = input(\"Try to guess the number I am thinking of!\")\n",
    "    \n",
    "    # use new tab to indent\n",
    "    guesses += 1\n",
    "    clear_output()\n",
    "    if int(ans)== number:\n",
    "        print(\"Congrats! you guessed it correctly.\")\n",
    "        \n",
    "        # use tab twice to indent twice\n",
    "        print(\"it took you {} guesses!\".format(guesses))\n",
    "        break\n",
    "    elif int(ans)> number:\n",
    "        print(\"The number is lower than what you guessed.\")\n",
    "    elif int(ans)< number:\n",
    "        print(\"The number is greater than what you guessed\")"
   ]
  },
  {
   "cell_type": "code",
   "execution_count": null,
   "id": "afefc328",
   "metadata": {},
   "outputs": [],
   "source": []
  },
  {
   "cell_type": "code",
   "execution_count": null,
   "id": "83749025",
   "metadata": {},
   "outputs": [],
   "source": []
  }
 ],
 "metadata": {
  "kernelspec": {
   "display_name": "Python 3 (ipykernel)",
   "language": "python",
   "name": "python3"
  },
  "language_info": {
   "codemirror_mode": {
    "name": "ipython",
    "version": 3
   },
   "file_extension": ".py",
   "mimetype": "text/x-python",
   "name": "python",
   "nbconvert_exporter": "python",
   "pygments_lexer": "ipython3",
   "version": "3.9.7"
  }
 },
 "nbformat": 4,
 "nbformat_minor": 5
}
